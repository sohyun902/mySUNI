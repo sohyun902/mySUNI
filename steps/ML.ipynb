{
  "cells": [
    {
      "cell_type": "code",
      "execution_count": null,
      "metadata": {
        "id": "NTwan2aklj4Y"
      },
      "outputs": [],
      "source": [
        "import pandas as pd\n",
        "import numpy as np\n",
        "import random\n",
        "random.seed(0)"
      ]
    },
    {
      "cell_type": "code",
      "execution_count": 7,
      "metadata": {
        "colab": {
          "base_uri": "https://localhost:8080/",
          "height": 426
        },
        "id": "6zFZTPgJVsz6",
        "outputId": "11a39398-3a95-4660-d1bb-bc5770dec6d3"
      },
      "outputs": [
        {
          "data": {
            "text/html": [
              "<div>\n",
              "<style scoped>\n",
              "    .dataframe tbody tr th:only-of-type {\n",
              "        vertical-align: middle;\n",
              "    }\n",
              "\n",
              "    .dataframe tbody tr th {\n",
              "        vertical-align: top;\n",
              "    }\n",
              "\n",
              "    .dataframe thead th {\n",
              "        text-align: right;\n",
              "    }\n",
              "</style>\n",
              "<table border=\"1\" class=\"dataframe\">\n",
              "  <thead>\n",
              "    <tr style=\"text-align: right;\">\n",
              "      <th></th>\n",
              "      <th>영화명</th>\n",
              "      <th>장르</th>\n",
              "      <th>배우</th>\n",
              "      <th>감독</th>\n",
              "      <th>제작사</th>\n",
              "      <th>상영시간</th>\n",
              "      <th>국가</th>\n",
              "      <th>실관람객 평점</th>\n",
              "      <th>네티즌 평점</th>\n",
              "      <th>네이버 관심도(찜)</th>\n",
              "      <th>...</th>\n",
              "      <th>온라인 판매실적(익월)</th>\n",
              "      <th>온라인 판매실적(익익월)</th>\n",
              "      <th>톤</th>\n",
              "      <th>시대/배경</th>\n",
              "      <th>주제</th>\n",
              "      <th>관객수_int</th>\n",
              "      <th>관객수_categorical</th>\n",
              "      <th>개봉연도</th>\n",
              "      <th>개봉월</th>\n",
              "      <th>매력도</th>\n",
              "    </tr>\n",
              "  </thead>\n",
              "  <tbody>\n",
              "    <tr>\n",
              "      <th>0</th>\n",
              "      <td>1947 보스톤</td>\n",
              "      <td>드라마</td>\n",
              "      <td>하정우</td>\n",
              "      <td>강제규</td>\n",
              "      <td>(주)비에이엔터테인먼트</td>\n",
              "      <td>108</td>\n",
              "      <td>한국</td>\n",
              "      <td>7.811</td>\n",
              "      <td>8.85</td>\n",
              "      <td>7052</td>\n",
              "      <td>...</td>\n",
              "      <td>2397</td>\n",
              "      <td>1443</td>\n",
              "      <td>영감을 주는</td>\n",
              "      <td>역사적</td>\n",
              "      <td>성장</td>\n",
              "      <td>1020000</td>\n",
              "      <td>100만 이상</td>\n",
              "      <td>2023</td>\n",
              "      <td>9</td>\n",
              "      <td>7583</td>\n",
              "    </tr>\n",
              "    <tr>\n",
              "      <th>1</th>\n",
              "      <td>1980</td>\n",
              "      <td>드라마</td>\n",
              "      <td>강신일</td>\n",
              "      <td>강승용</td>\n",
              "      <td>(주)엣나인필름</td>\n",
              "      <td>99</td>\n",
              "      <td>한국</td>\n",
              "      <td>6.931</td>\n",
              "      <td>6.93</td>\n",
              "      <td>2377</td>\n",
              "      <td>...</td>\n",
              "      <td>12568</td>\n",
              "      <td>6266</td>\n",
              "      <td>우울한</td>\n",
              "      <td>역사적</td>\n",
              "      <td>가족</td>\n",
              "      <td>44000</td>\n",
              "      <td>10만 미만</td>\n",
              "      <td>2024</td>\n",
              "      <td>3</td>\n",
              "      <td>19080</td>\n",
              "    </tr>\n",
              "    <tr>\n",
              "      <th>3</th>\n",
              "      <td>3일의 휴가</td>\n",
              "      <td>판타지</td>\n",
              "      <td>김해숙</td>\n",
              "      <td>육상효</td>\n",
              "      <td>글뫼 주식회사</td>\n",
              "      <td>105</td>\n",
              "      <td>한국</td>\n",
              "      <td>8.111</td>\n",
              "      <td>8.51</td>\n",
              "      <td>4149</td>\n",
              "      <td>...</td>\n",
              "      <td>23141</td>\n",
              "      <td>6697</td>\n",
              "      <td>마음이 따뜻해지는</td>\n",
              "      <td>시골</td>\n",
              "      <td>가족</td>\n",
              "      <td>530000</td>\n",
              "      <td>50만 이상</td>\n",
              "      <td>2023</td>\n",
              "      <td>12</td>\n",
              "      <td>89873</td>\n",
              "    </tr>\n",
              "    <tr>\n",
              "      <th>4</th>\n",
              "      <td>A MINECRAFT MOVIE 마인크래프트 무비</td>\n",
              "      <td>어드벤처</td>\n",
              "      <td>제이슨 모모아</td>\n",
              "      <td>자레드 헤스</td>\n",
              "      <td>워너브러더스 코리아(주)</td>\n",
              "      <td>100</td>\n",
              "      <td>미국</td>\n",
              "      <td>7.541</td>\n",
              "      <td>7.59</td>\n",
              "      <td>2425</td>\n",
              "      <td>...</td>\n",
              "      <td>60879</td>\n",
              "      <td>19222</td>\n",
              "      <td>가볍고 유쾌한</td>\n",
              "      <td>판타지 세계</td>\n",
              "      <td>우정</td>\n",
              "      <td>1350000</td>\n",
              "      <td>100만 이상</td>\n",
              "      <td>2025</td>\n",
              "      <td>4</td>\n",
              "      <td>138132</td>\n",
              "    </tr>\n",
              "    <tr>\n",
              "      <th>5</th>\n",
              "      <td>거너</td>\n",
              "      <td>액션</td>\n",
              "      <td>루크 헴스워스</td>\n",
              "      <td>디미트리 로고데티스</td>\n",
              "      <td>주식회사 풍경소리</td>\n",
              "      <td>105</td>\n",
              "      <td>미국</td>\n",
              "      <td>1.601</td>\n",
              "      <td>1.60</td>\n",
              "      <td>22</td>\n",
              "      <td>...</td>\n",
              "      <td>1817</td>\n",
              "      <td>729</td>\n",
              "      <td>긴장감 있는</td>\n",
              "      <td>현대</td>\n",
              "      <td>가족</td>\n",
              "      <td>0</td>\n",
              "      <td>10만 미만</td>\n",
              "      <td>2025</td>\n",
              "      <td>4</td>\n",
              "      <td>5748</td>\n",
              "    </tr>\n",
              "  </tbody>\n",
              "</table>\n",
              "<p>5 rows × 22 columns</p>\n",
              "</div>"
            ],
            "text/plain": [
              "                           영화명    장르       배우          감독            제작사  \\\n",
              "0                     1947 보스톤   드라마      하정우         강제규   (주)비에이엔터테인먼트   \n",
              "1                         1980   드라마      강신일         강승용       (주)엣나인필름   \n",
              "3                       3일의 휴가   판타지      김해숙         육상효        글뫼 주식회사   \n",
              "4  A MINECRAFT MOVIE 마인크래프트 무비  어드벤처  제이슨 모모아      자레드 헤스  워너브러더스 코리아(주)   \n",
              "5                           거너    액션  루크 헴스워스  디미트리 로고데티스      주식회사 풍경소리   \n",
              "\n",
              "   상영시간  국가  실관람객 평점  네티즌 평점  네이버 관심도(찜)  ... 온라인 판매실적(익월)  온라인 판매실적(익익월)  \\\n",
              "0   108  한국    7.811    8.85        7052  ...         2397           1443   \n",
              "1    99  한국    6.931    6.93        2377  ...        12568           6266   \n",
              "3   105  한국    8.111    8.51        4149  ...        23141           6697   \n",
              "4   100  미국    7.541    7.59        2425  ...        60879          19222   \n",
              "5   105  미국    1.601    1.60          22  ...         1817            729   \n",
              "\n",
              "           톤   시대/배경  주제  관객수_int 관객수_categorical  개봉연도 개봉월     매력도  \n",
              "0     영감을 주는     역사적  성장  1020000         100만 이상  2023   9    7583  \n",
              "1        우울한     역사적  가족    44000          10만 미만  2024   3   19080  \n",
              "3  마음이 따뜻해지는      시골  가족   530000          50만 이상  2023  12   89873  \n",
              "4    가볍고 유쾌한  판타지 세계  우정  1350000         100만 이상  2025   4  138132  \n",
              "5     긴장감 있는      현대  가족        0          10만 미만  2025   4    5748  \n",
              "\n",
              "[5 rows x 22 columns]"
            ]
          },
          "metadata": {},
          "output_type": "display_data"
        }
      ],
      "source": [
        "# 사전 구축한 훈련용 DB 불러오기\n",
        "df = pd.read_csv('../data/DB(사전학습용).csv', encoding='utf-8')\n",
        "\n",
        "\n",
        "# 훈련에 사용할 칼럼 결정\n",
        "col = ['영화명', '장르', '배우', '감독', '제작사', '상영시간', '개봉일', 'Gemini 키워드', '국가', '실관람객 평점', '네티즌 평점', '네이버 관심도(찜)', '누적 관객수', '온라인 판매실적(당월)', '온라인 판매실적(익월)', '온라인 판매실적(익익월)']\n",
        "df = df[col]\n",
        "df = df.dropna() # 결측치 있는 행 삭제\n",
        "\n",
        "\n",
        "# 장르 하나만 선정\n",
        "df['장르'] = df['장르'].str.split(',', expand=True)[0]\n",
        "\n",
        "# 배우 한 명만 선정\n",
        "df['배우'] = df['배우'].str.split(',', expand=True)[0]\n",
        "\n",
        "# 감독 한 명만 선정\n",
        "df['감독'] = df['감독'].str.split(',', expand=True)[0]\n",
        "\n",
        "# 제작사 하나만 선정\n",
        "df['제작사'] = df['제작사'].str.split(',', expand=True)[0]\n",
        "\n",
        "# 상영시간 int형으로\n",
        "df['상영시간'] = df['상영시간'].astype(int)\n",
        "\n",
        "# 'Gemini 키워드' 컬럼을 쉼표로 분리하여 새로운 칼럼 생성\n",
        "keywords_split = df['Gemini 키워드'].str.split(',', expand=True)\n",
        "keywords_split.columns = ['톤', '시대/배경', '주제']\n",
        "df = pd.concat([df, keywords_split], axis=1)\n",
        "df = df.drop('Gemini 키워드', axis=1)\n",
        "\n",
        "# 국가 하나만 선정\n",
        "df['국가'] = df['국가'].str.split(',', expand=True)[0]\n",
        "\n",
        "# 관객수 범주화\n",
        "def convert_audience_to_int(audience_str):\n",
        "    if isinstance(audience_str, str):\n",
        "        audience_str = audience_str.replace(',', '')\n",
        "        if '만' in audience_str:\n",
        "            try:\n",
        "                return int(float(audience_str.replace('만', '')) * 10000)\n",
        "            except ValueError:\n",
        "                return 0\n",
        "    return 0\n",
        "\n",
        "df['관객수_int'] = df['누적 관객수'].apply(convert_audience_to_int)\n",
        "bins = [0, 100000, 500000, 1000000, 5000000, 10000000, float('inf')]\n",
        "labels = ['10만 미만', '10만 이상', '50만 이상', '100만 이상', '500만 이상', '1000만 이상']\n",
        "df['관객수_categorical'] = pd.cut(df['관객수_int'], bins=bins, labels=labels, right=False)\n",
        "\n",
        "# 개봉일을 연/월로 분리\n",
        "df['개봉일'] = pd.to_datetime(df['개봉일'], format = '%Y%m%d', errors='coerce')\n",
        "df['개봉연도'] = df['개봉일'].dt.year\n",
        "df['개봉월'] = df['개봉일'].dt.month\n",
        "df['개봉연도'] = df['개봉연도'].fillna(0).astype(int) # 결측값 0으로 채우고 int형으로 자료형 변경\n",
        "df['개봉월'] = df['개봉월'].fillna(0).astype(int)\n",
        "df = df.drop('개봉일', axis = 1)\n",
        "\n",
        "# 온라인 판매실적 컬럼의 쉼표 제거 및 숫자로 변환\n",
        "sales_cols = ['온라인 판매실적(당월)', '온라인 판매실적(익월)', '온라인 판매실적(익익월)']\n",
        "for col in sales_cols:\n",
        "    df[col] = df[col].astype(str).str.replace(',', '', regex=False)\n",
        "    df[col] = pd.to_numeric(df[col], errors='coerce').fillna(0).astype(int)\n",
        "\n",
        "\n",
        "# 매력도 칼럼 생성\n",
        "df['매력도'] = df['온라인 판매실적(당월)'] + df['온라인 판매실적(익월)'] + df['온라인 판매실적(익익월)']\n",
        "\n",
        "# 결과 확인\n",
        "display(df.head())"
      ]
    },
    {
      "cell_type": "markdown",
      "metadata": {
        "id": "JZRmmGwtVvDd"
      },
      "source": [
        "# 모델링 "
      ]
    },
    {
      "cell_type": "code",
      "execution_count": 11,
      "metadata": {
        "id": "Qm4e1v3-7A6A"
      },
      "outputs": [],
      "source": [
        "from sklearn.model_selection import train_test_split\n",
        "from sklearn.preprocessing import OrdinalEncoder\n",
        "from sklearn.preprocessing import StandardScaler\n",
        "import xgboost as xgb\n",
        "import lightgbm as lgb\n",
        "from sklearn.ensemble import RandomForestRegressor, ExtraTreesRegressor\n",
        "from sklearn.metrics import accuracy_score"
      ]
    },
    {
      "cell_type": "code",
      "execution_count": 12,
      "metadata": {
        "id": "Kc5FVrnS7Y6C"
      },
      "outputs": [],
      "source": [
        "# x, y 데이터로 분할\n",
        "x = df[['장르', '감독', '제작사','실관람객 평점', '네티즌 평점', '네이버 관심도(찜)', '톤', '시대/배경', '주제', '개봉연도', '개봉월', '관객수_int']]\n",
        "y = df[\"매력도\"]\n",
        "\n",
        "# 훈련용, 학습용 데이터셋으로 분할\n",
        "x_train, x_test, y_train, y_test = train_test_split(x, y, test_size=0.2, random_state=42)\n",
        "\n",
        "# 카테고리형 데이터 인코딩\n",
        "categorical_cols = ['장르', '감독', '제작사', '톤', '시대/배경', '주제']\n",
        "\n",
        "ord = OrdinalEncoder(handle_unknown='use_encoded_value', unknown_value=-1)\n",
        "x_train[categorical_cols] = ord.fit_transform(x_train[categorical_cols])\n",
        "x_test[categorical_cols] = ord.transform(x_test[categorical_cols])\n",
        "\n",
        "\n",
        "\n",
        "def smape(y_true, y_pred):\n",
        "   numerator = np.abs(y_pred - y_true)\n",
        "   denominator = (np.abs(y_true) + np.abs(y_pred)) / 2\n",
        "   #Avoid division by zero\n",
        "   return np.mean(numerator / np.maximum(denominator, 1e-8)) * 100"
      ]
    },
    {
      "cell_type": "code",
      "execution_count": 13,
      "metadata": {
        "colab": {
          "base_uri": "https://localhost:8080/"
        },
        "id": "vhzibfzwH5xM",
        "outputId": "2e0676c1-8182-4d6e-817a-79471e0b0c83"
      },
      "outputs": [
        {
          "name": "stdout",
          "output_type": "stream",
          "text": [
            "랜덤 포레스트 SMAPE: 86.64%\n",
            "엑스트라트리 SMAPE: 92.36%\n",
            "xgboost SMAPE: 110.71%\n"
          ]
        }
      ],
      "source": [
        "# 각 모델별 성능 비교 (낮을수록 성능 좋음)\n",
        "\n",
        "# 랜덤 포레스트\n",
        "rf = RandomForestRegressor(n_estimators=100, random_state=42)\n",
        "rf.fit(x_train, y_train)\n",
        "y_pred_rf = rf.predict(x_test)\n",
        "smape_value = smape(y_test, y_pred_rf)\n",
        "print(f\"랜덤 포레스트 SMAPE: {smape_value:.2f}%\")\n",
        "\n",
        "# 엑스트라트리\n",
        "dt = ExtraTreesRegressor(n_estimators=100, random_state=42)\n",
        "dt.fit(x_train, y_train)\n",
        "y_pred_dt = dt.predict(x_test)\n",
        "smape_value = smape(y_test, y_pred_dt)\n",
        "print(f\"엑스트라트리 SMAPE: {smape_value:.2f}%\")\n",
        "\n",
        "# xgboost\n",
        "xgb_model = xgb.XGBRegressor(objective='reg:squarederror', random_state=42)\n",
        "xgb_model.fit(x_train, y_train)\n",
        "y_pred_xgb = xgb_model.predict(x_test)\n",
        "smape_value = smape(y_test, y_pred_xgb)\n",
        "print(f\"xgboost SMAPE: {smape_value:.2f}%\")\n"
      ]
    },
    {
      "cell_type": "code",
      "execution_count": 14,
      "metadata": {
        "colab": {
          "base_uri": "https://localhost:8080/"
        },
        "id": "Z4s_M54Vwxxc",
        "outputId": "60a53cb2-23c3-482c-f66d-2ece32ce5225"
      },
      "outputs": [
        {
          "name": "stdout",
          "output_type": "stream",
          "text": [
            "가중치가 부여된 랜덤 포레스트 SMAPE: 80.86%\n",
            "가중치가 부여된 엑스트라트리 SMAPE: 97.79%\n",
            "가중치가 부여된 XGBoost SMAPE: 78.37%\n"
          ]
        }
      ],
      "source": [
        "# 극단값에 가중치 부여\n",
        "def create_sample_weights(y, extreme_weight=10):\n",
        "    weights = np.ones(len(y))\n",
        "    extreme_indices = (y > np.percentile(y, 70)) | (y < np.percentile(y, 30))\n",
        "    weights[extreme_indices] = extreme_weight\n",
        "    return weights\n",
        "\n",
        "sample_weights = create_sample_weights(y_train)\n",
        "\n",
        "rf_weighted = RandomForestRegressor(n_estimators=200, random_state=42)\n",
        "rf_weighted.fit(x_train, y_train, sample_weight=sample_weights)\n",
        "y_pred_weighted_rf = rf_weighted.predict(x_test)\n",
        "smape_value = smape(y_test, y_pred_weighted_rf)\n",
        "print(f\"가중치가 부여된 랜덤 포레스트 SMAPE: {smape_value:.2f}%\")\n",
        "\n",
        "dt_weighted = ExtraTreesRegressor(n_estimators=200, random_state=42)\n",
        "dt_weighted.fit(x_train, y_train, sample_weight=sample_weights)\n",
        "y_pred_weighted_dt = dt_weighted.predict(x_test)\n",
        "smape_value = smape(y_test, y_pred_weighted_dt)\n",
        "print(f\"가중치가 부여된 엑스트라트리 SMAPE: {smape_value:.2f}%\")\n",
        "\n",
        "xgb_weighted = xgb.XGBRFRegressor(n_estimators=200, random_state=42)\n",
        "xgb_weighted.fit(x_train, y_train, sample_weight=sample_weights)\n",
        "y_pred_weighted_xgb = xgb_weighted.predict(x_test)\n",
        "smape_value = smape(y_test, y_pred_weighted_xgb)\n",
        "print(f\"가중치가 부여된 XGBoost SMAPE: {smape_value:.2f}%\")"
      ]
    },
    {
      "cell_type": "code",
      "execution_count": 15,
      "metadata": {
        "colab": {
          "base_uri": "https://localhost:8080/",
          "height": 1000
        },
        "id": "79d4dcba",
        "outputId": "66d20531-c085-46a9-c209-3b3d688f93c2"
      },
      "outputs": [
        {
          "data": {
            "image/png": "[encoded data removed]",
            "text/plain": [
              "<Figure size 1200x600 with 1 Axes>"
            ]
          },
          "metadata": {},
          "output_type": "display_data"
        },
        {
          "data": {
            "image/png": "[encoded data removed]",
            "text/plain": [
              "<Figure size 1200x600 with 1 Axes>"
            ]
          },
          "metadata": {},
          "output_type": "display_data"
        },
        {
          "data": {
            "image/png": "[encoded data removed]",
            "text/plain": [
              "<Figure size 1200x600 with 1 Axes>"
            ]
          },
          "metadata": {},
          "output_type": "display_data"
        }
      ],
      "source": [
        "import matplotlib.pyplot as plt\n",
        "\n",
        "# 예측값과 실제값 시각화\n",
        "answers_per_model = [y_pred_weighted_rf, y_pred_weighted_dt, y_pred_weighted_xgb]\n",
        "model_name = ['RandomForest', 'Extratrees', 'XGBoost']\n",
        "\n",
        "for i, y_pred in enumerate(answers_per_model):\n",
        "  sample_indices = y_test.index[:]\n",
        "  sample_y_test = y_test.loc[sample_indices]\n",
        "  sample_y_pred = y_pred[:]\n",
        "\n",
        "  plot_df = pd.DataFrame({'Actual': sample_y_test, 'Predicted': sample_y_pred})\n",
        "\n",
        "  plot_df.plot(kind='bar', figsize=(12, 6))\n",
        "  plt.xlabel(\"Sample Index\")\n",
        "  plt.ylabel(\"Value\")\n",
        "  plt.title(f\"Actual vs. Predicted Values ({model_name[i]})\")\n",
        "  plt.xticks(rotation=45, ha='right')\n",
        "  plt.tight_layout()\n",
        "  plt.show()"
      ]
    },
    {
      "cell_type": "code",
      "execution_count": 16,
      "metadata": {
        "colab": {
          "base_uri": "https://localhost:8080/",
          "height": 306
        },
        "id": "QEV7_ef7_4MB",
        "outputId": "58d38bf1-28e2-4578-b937-871d51caae49"
      },
      "outputs": [
        {
          "name": "stdout",
          "output_type": "stream",
          "text": [
            "Categorized Actual vs. Predicted Values Comparison:\n"
          ]
        },
        {
          "data": {
            "text/html": [
              "<div>\n",
              "<style scoped>\n",
              "    .dataframe tbody tr th:only-of-type {\n",
              "        vertical-align: middle;\n",
              "    }\n",
              "\n",
              "    .dataframe tbody tr th {\n",
              "        vertical-align: top;\n",
              "    }\n",
              "\n",
              "    .dataframe thead th {\n",
              "        text-align: right;\n",
              "    }\n",
              "</style>\n",
              "<table border=\"1\" class=\"dataframe\">\n",
              "  <thead>\n",
              "    <tr style=\"text-align: right;\">\n",
              "      <th>col_0</th>\n",
              "      <th>10만 미만</th>\n",
              "      <th>10만 이상</th>\n",
              "      <th>50만 이상</th>\n",
              "      <th>100만 이상</th>\n",
              "      <th>500만 이상</th>\n",
              "      <th>1000만 이상</th>\n",
              "    </tr>\n",
              "    <tr>\n",
              "      <th>매력도</th>\n",
              "      <th></th>\n",
              "      <th></th>\n",
              "      <th></th>\n",
              "      <th></th>\n",
              "      <th></th>\n",
              "      <th></th>\n",
              "    </tr>\n",
              "  </thead>\n",
              "  <tbody>\n",
              "    <tr>\n",
              "      <th>10만 미만</th>\n",
              "      <td>87</td>\n",
              "      <td>4</td>\n",
              "      <td>0</td>\n",
              "      <td>0</td>\n",
              "      <td>0</td>\n",
              "      <td>0</td>\n",
              "    </tr>\n",
              "    <tr>\n",
              "      <th>10만 이상</th>\n",
              "      <td>2</td>\n",
              "      <td>20</td>\n",
              "      <td>0</td>\n",
              "      <td>0</td>\n",
              "      <td>0</td>\n",
              "      <td>0</td>\n",
              "    </tr>\n",
              "    <tr>\n",
              "      <th>50만 이상</th>\n",
              "      <td>0</td>\n",
              "      <td>0</td>\n",
              "      <td>0</td>\n",
              "      <td>0</td>\n",
              "      <td>0</td>\n",
              "      <td>0</td>\n",
              "    </tr>\n",
              "    <tr>\n",
              "      <th>100만 이상</th>\n",
              "      <td>0</td>\n",
              "      <td>0</td>\n",
              "      <td>1</td>\n",
              "      <td>0</td>\n",
              "      <td>0</td>\n",
              "      <td>0</td>\n",
              "    </tr>\n",
              "    <tr>\n",
              "      <th>500만 이상</th>\n",
              "      <td>0</td>\n",
              "      <td>0</td>\n",
              "      <td>0</td>\n",
              "      <td>0</td>\n",
              "      <td>0</td>\n",
              "      <td>0</td>\n",
              "    </tr>\n",
              "    <tr>\n",
              "      <th>1000만 이상</th>\n",
              "      <td>0</td>\n",
              "      <td>0</td>\n",
              "      <td>0</td>\n",
              "      <td>0</td>\n",
              "      <td>0</td>\n",
              "      <td>0</td>\n",
              "    </tr>\n",
              "  </tbody>\n",
              "</table>\n",
              "</div>"
            ],
            "text/plain": [
              "col_0     10만 미만  10만 이상  50만 이상  100만 이상  500만 이상  1000만 이상\n",
              "매력도                                                         \n",
              "10만 미만        87       4       0        0        0         0\n",
              "10만 이상         2      20       0        0        0         0\n",
              "50만 이상         0       0       0        0        0         0\n",
              "100만 이상        0       0       1        0        0         0\n",
              "500만 이상        0       0       0        0        0         0\n",
              "1000만 이상       0       0       0        0        0         0"
            ]
          },
          "metadata": {},
          "output_type": "display_data"
        },
        {
          "name": "stdout",
          "output_type": "stream",
          "text": [
            "Accuracy Score: 0.94\n"
          ]
        }
      ],
      "source": [
        "# 훈련 데이터 분류 정확도\n",
        "\n",
        "y_train_categorical = pd.cut(y_train, bins=bins, labels=labels, right=False)\n",
        "y_pred_categorical = pd.cut(rf_weighted.predict(x_train), bins=bins, labels=labels, right=False)\n",
        "comparison_crosstab = pd.crosstab(y_train_categorical, y_pred_categorical, dropna=False)\n",
        "\n",
        "print(\"Categorized Actual vs. Predicted Values Comparison:\")\n",
        "display(comparison_crosstab)\n",
        "\n",
        "accuracy = accuracy_score(y_train_categorical, y_pred_categorical)\n",
        "print(f\"Accuracy Score: {accuracy:.2f}\")"
      ]
    },
    {
      "cell_type": "code",
      "execution_count": 17,
      "metadata": {
        "colab": {
          "base_uri": "https://localhost:8080/",
          "height": 243
        },
        "id": "b382e56e",
        "outputId": "17d53496-1c2c-4299-cd99-d5716923c16f"
      },
      "outputs": [
        {
          "name": "stdout",
          "output_type": "stream",
          "text": [
            "Categorized Actual vs. Predicted Values Comparison:\n"
          ]
        },
        {
          "data": {
            "text/html": [
              "<div>\n",
              "<style scoped>\n",
              "    .dataframe tbody tr th:only-of-type {\n",
              "        vertical-align: middle;\n",
              "    }\n",
              "\n",
              "    .dataframe tbody tr th {\n",
              "        vertical-align: top;\n",
              "    }\n",
              "\n",
              "    .dataframe thead th {\n",
              "        text-align: right;\n",
              "    }\n",
              "</style>\n",
              "<table border=\"1\" class=\"dataframe\">\n",
              "  <thead>\n",
              "    <tr style=\"text-align: right;\">\n",
              "      <th>col_0</th>\n",
              "      <th>5만 미만</th>\n",
              "      <th>5만 이상</th>\n",
              "      <th>10만 이상</th>\n",
              "      <th>50만 이상</th>\n",
              "    </tr>\n",
              "    <tr>\n",
              "      <th>매력도</th>\n",
              "      <th></th>\n",
              "      <th></th>\n",
              "      <th></th>\n",
              "      <th></th>\n",
              "    </tr>\n",
              "  </thead>\n",
              "  <tbody>\n",
              "    <tr>\n",
              "      <th>5만 미만</th>\n",
              "      <td>15</td>\n",
              "      <td>2</td>\n",
              "      <td>1</td>\n",
              "      <td>0</td>\n",
              "    </tr>\n",
              "    <tr>\n",
              "      <th>5만 이상</th>\n",
              "      <td>1</td>\n",
              "      <td>2</td>\n",
              "      <td>0</td>\n",
              "      <td>0</td>\n",
              "    </tr>\n",
              "    <tr>\n",
              "      <th>10만 이상</th>\n",
              "      <td>0</td>\n",
              "      <td>4</td>\n",
              "      <td>2</td>\n",
              "      <td>0</td>\n",
              "    </tr>\n",
              "    <tr>\n",
              "      <th>50만 이상</th>\n",
              "      <td>0</td>\n",
              "      <td>0</td>\n",
              "      <td>2</td>\n",
              "      <td>0</td>\n",
              "    </tr>\n",
              "  </tbody>\n",
              "</table>\n",
              "</div>"
            ],
            "text/plain": [
              "col_0   5만 미만  5만 이상  10만 이상  50만 이상\n",
              "매력도                                 \n",
              "5만 미만      15      2       1       0\n",
              "5만 이상       1      2       0       0\n",
              "10만 이상      0      4       2       0\n",
              "50만 이상      0      0       2       0"
            ]
          },
          "metadata": {},
          "output_type": "display_data"
        },
        {
          "name": "stdout",
          "output_type": "stream",
          "text": [
            "Accuracy Score: 0.66\n"
          ]
        }
      ],
      "source": [
        "# 테스트 데이터 분류 정확도\n",
        "\n",
        "bins = [0, 50000, 100000, 500000, float('inf')]\n",
        "labels = ['5만 미만', '5만 이상', '10만 이상', '50만 이상']\n",
        "\n",
        "y_test_categorical = pd.cut(y_test, bins=bins, labels=labels, right=False)\n",
        "y_pred_categorical = pd.cut(y_pred_weighted_rf, bins=bins, labels=labels, right=False)\n",
        "comparison_crosstab = pd.crosstab(y_test_categorical, y_pred_categorical, dropna=False)\n",
        "\n",
        "print(\"Categorized Actual vs. Predicted Values Comparison:\")\n",
        "display(comparison_crosstab)\n",
        "\n",
        "accuracy = accuracy_score(y_test_categorical, y_pred_categorical)\n",
        "print(f\"Accuracy Score: {accuracy:.2f}\")"
      ]
    },
    {
      "cell_type": "code",
      "execution_count": null,
      "metadata": {
        "colab": {
          "base_uri": "https://localhost:8080/"
        },
        "id": "6ad7ba0f",
        "outputId": "7dd16d2d-c42f-4110-d076-32dbbb8296c6"
      },
      "outputs": [
        {
          "data": {
            "text/plain": [
              "['rf_weighted_model.pkl']"
            ]
          },
          "execution_count": 52,
          "metadata": {},
          "output_type": "execute_result"
        }
      ],
      "source": [
        "# 인코더 및 모델 저장\n",
        "import joblib\n",
        "\n",
        "joblib.dump(ord, 'ordinal_encoder.pkl')\n",
        "joblib.dump(rf_weighted, 'rf_weighted_model.pkl')"
      ]
    }
  ],
  "metadata": {
    "colab": {
      "provenance": []
    },
    "kernelspec": {
      "display_name": "Python 3",
      "name": "python3"
    },
    "language_info": {
      "codemirror_mode": {
        "name": "ipython",
        "version": 3
      },
      "file_extension": ".py",
      "mimetype": "text/x-python",
      "name": "python",
      "nbconvert_exporter": "python",
      "pygments_lexer": "ipython3",
      "version": "3.11.2"
    }
  },
  "nbformat": 4,
  "nbformat_minor": 0
}
